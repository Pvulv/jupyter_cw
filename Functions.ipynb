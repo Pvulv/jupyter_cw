{
 "cells": [
  {
   "cell_type": "markdown",
   "id": "047e9268-7980-4f53-8420-d3947f8f8dab",
   "metadata": {},
   "source": [
    "# Używamy słowa def"
   ]
  },
  {
   "cell_type": "code",
   "execution_count": 16,
   "id": "9fdacb4e-c445-4d3d-8e57-e2faa3754106",
   "metadata": {},
   "outputs": [],
   "source": [
    "def Equation():\n",
    "    numbers = 1+2\n",
    "    return numbers"
   ]
  },
  {
   "cell_type": "markdown",
   "id": "1656dc7d-6528-49f4-bbdb-4e7fe688d1c6",
   "metadata": {},
   "source": [
    "## Używamy okrągłych nawiasów by wywołać funkcje"
   ]
  },
  {
   "cell_type": "code",
   "execution_count": 23,
   "id": "4f76a872-3b6f-4575-bdab-cbf8b89ff07c",
   "metadata": {},
   "outputs": [
    {
     "data": {
      "text/plain": [
       "3"
      ]
     },
     "execution_count": 23,
     "metadata": {},
     "output_type": "execute_result"
    }
   ],
   "source": [
    "Equation()"
   ]
  }
 ],
 "metadata": {
  "kernelspec": {
   "display_name": "Python 3 (ipykernel)",
   "language": "python",
   "name": "python3"
  },
  "language_info": {
   "codemirror_mode": {
    "name": "ipython",
    "version": 3
   },
   "file_extension": ".py",
   "mimetype": "text/x-python",
   "name": "python",
   "nbconvert_exporter": "python",
   "pygments_lexer": "ipython3",
   "version": "3.12.7"
  }
 },
 "nbformat": 4,
 "nbformat_minor": 5
}
